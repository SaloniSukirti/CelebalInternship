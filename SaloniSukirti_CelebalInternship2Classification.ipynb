{
  "nbformat": 4,
  "nbformat_minor": 0,
  "metadata": {
    "colab": {
      "provenance": [],
      "authorship_tag": "ABX9TyOoKn4pjGHG0gfvxe2hvtc/",
      "include_colab_link": true
    },
    "kernelspec": {
      "name": "python3",
      "display_name": "Python 3"
    },
    "language_info": {
      "name": "python"
    }
  },
  "cells": [
    {
      "cell_type": "markdown",
      "metadata": {
        "id": "view-in-github",
        "colab_type": "text"
      },
      "source": [
        "<a href=\"https://colab.research.google.com/github/SaloniSukirti/CelebalInternship/blob/main/SaloniSukirti_CelebalInternship2Classification.ipynb\" target=\"_parent\"><img src=\"https://colab.research.google.com/assets/colab-badge.svg\" alt=\"Open In Colab\"/></a>"
      ]
    },
    {
      "cell_type": "markdown",
      "source": [
        "# `Week-3`\n",
        "Saloni Sukirti UPES\n",
        "\n",
        "---\n",
        "\n",
        "\n",
        "---\n",
        "\n"
      ],
      "metadata": {
        "id": "B1O15e5LrtN2"
      }
    },
    {
      "cell_type": "markdown",
      "source": [
        "# Titanic Dataset"
      ],
      "metadata": {
        "id": "_sR1dS-2CEv4"
      }
    },
    {
      "cell_type": "code",
      "source": [
        "import pandas as pd\n",
        "import seaborn as sns\n",
        "import matplotlib.pyplot as plt"
      ],
      "metadata": {
        "id": "tRperJ66KHTm"
      },
      "execution_count": null,
      "outputs": []
    },
    {
      "cell_type": "code",
      "source": [
        "data = pd.read_csv('Titanic-Dataset.csv')"
      ],
      "metadata": {
        "id": "fD1Q0uYtCNyN"
      },
      "execution_count": null,
      "outputs": []
    },
    {
      "cell_type": "code",
      "source": [
        "print(data.describe())"
      ],
      "metadata": {
        "colab": {
          "base_uri": "https://localhost:8080/"
        },
        "id": "z9kd7AFAsl0L",
        "outputId": "82b3afa7-6cd7-4cf3-d7b9-a40fbf1e059b"
      },
      "execution_count": null,
      "outputs": [
        {
          "output_type": "stream",
          "name": "stdout",
          "text": [
            "       PassengerId    Survived      Pclass         Age       SibSp  \\\n",
            "count   891.000000  891.000000  891.000000  714.000000  891.000000   \n",
            "mean    446.000000    0.383838    2.308642   29.699118    0.523008   \n",
            "std     257.353842    0.486592    0.836071   14.526497    1.102743   \n",
            "min       1.000000    0.000000    1.000000    0.420000    0.000000   \n",
            "25%     223.500000    0.000000    2.000000   20.125000    0.000000   \n",
            "50%     446.000000    0.000000    3.000000   28.000000    0.000000   \n",
            "75%     668.500000    1.000000    3.000000   38.000000    1.000000   \n",
            "max     891.000000    1.000000    3.000000   80.000000    8.000000   \n",
            "\n",
            "            Parch        Fare  \n",
            "count  891.000000  891.000000  \n",
            "mean     0.381594   32.204208  \n",
            "std      0.806057   49.693429  \n",
            "min      0.000000    0.000000  \n",
            "25%      0.000000    7.910400  \n",
            "50%      0.000000   14.454200  \n",
            "75%      0.000000   31.000000  \n",
            "max      6.000000  512.329200  \n"
          ]
        }
      ]
    },
    {
      "cell_type": "code",
      "source": [
        "print(data.info())"
      ],
      "metadata": {
        "colab": {
          "base_uri": "https://localhost:8080/"
        },
        "id": "onmfAtZowAGP",
        "outputId": "27b519a3-875c-49da-851f-e11312d42d54"
      },
      "execution_count": null,
      "outputs": [
        {
          "output_type": "stream",
          "name": "stdout",
          "text": [
            "<class 'pandas.core.frame.DataFrame'>\n",
            "RangeIndex: 891 entries, 0 to 890\n",
            "Data columns (total 12 columns):\n",
            " #   Column       Non-Null Count  Dtype  \n",
            "---  ------       --------------  -----  \n",
            " 0   PassengerId  891 non-null    int64  \n",
            " 1   Survived     891 non-null    int64  \n",
            " 2   Pclass       891 non-null    int64  \n",
            " 3   Name         891 non-null    object \n",
            " 4   Sex          891 non-null    object \n",
            " 5   Age          714 non-null    float64\n",
            " 6   SibSp        891 non-null    int64  \n",
            " 7   Parch        891 non-null    int64  \n",
            " 8   Ticket       891 non-null    object \n",
            " 9   Fare         891 non-null    float64\n",
            " 10  Cabin        204 non-null    object \n",
            " 11  Embarked     889 non-null    object \n",
            "dtypes: float64(2), int64(5), object(5)\n",
            "memory usage: 83.7+ KB\n",
            "None\n"
          ]
        }
      ]
    },
    {
      "cell_type": "code",
      "source": [
        "print(data.isnull().sum())"
      ],
      "metadata": {
        "colab": {
          "base_uri": "https://localhost:8080/"
        },
        "id": "kb8VPEVms5Nc",
        "outputId": "54ddab09-1c00-4564-d87f-0abfe16f1073"
      },
      "execution_count": null,
      "outputs": [
        {
          "output_type": "stream",
          "name": "stdout",
          "text": [
            "PassengerId      0\n",
            "Survived         0\n",
            "Pclass           0\n",
            "Name             0\n",
            "Sex              0\n",
            "Age            177\n",
            "SibSp            0\n",
            "Parch            0\n",
            "Ticket           0\n",
            "Fare             0\n",
            "Cabin          687\n",
            "Embarked         2\n",
            "dtype: int64\n"
          ]
        }
      ]
    },
    {
      "cell_type": "code",
      "source": [
        "print(data.head())"
      ],
      "metadata": {
        "colab": {
          "base_uri": "https://localhost:8080/"
        },
        "id": "SVzXu-I-KP_G",
        "outputId": "b98dacaa-68d0-405f-c0b0-1ee898408803"
      },
      "execution_count": null,
      "outputs": [
        {
          "output_type": "stream",
          "name": "stdout",
          "text": [
            "   PassengerId  Survived  Pclass  \\\n",
            "0            1         0       3   \n",
            "1            2         1       1   \n",
            "2            3         1       3   \n",
            "3            4         1       1   \n",
            "4            5         0       3   \n",
            "\n",
            "                                                Name     Sex   Age  SibSp  \\\n",
            "0                            Braund, Mr. Owen Harris    male  22.0      1   \n",
            "1  Cumings, Mrs. John Bradley (Florence Briggs Th...  female  38.0      1   \n",
            "2                             Heikkinen, Miss. Laina  female  26.0      0   \n",
            "3       Futrelle, Mrs. Jacques Heath (Lily May Peel)  female  35.0      1   \n",
            "4                           Allen, Mr. William Henry    male  35.0      0   \n",
            "\n",
            "   Parch            Ticket     Fare Cabin Embarked  \n",
            "0      0         A/5 21171   7.2500   NaN        S  \n",
            "1      0          PC 17599  71.2833   C85        C  \n",
            "2      0  STON/O2. 3101282   7.9250   NaN        S  \n",
            "3      0            113803  53.1000  C123        S  \n",
            "4      0            373450   8.0500   NaN        S  \n"
          ]
        }
      ]
    },
    {
      "cell_type": "code",
      "source": [
        "print(data.tail())"
      ],
      "metadata": {
        "colab": {
          "base_uri": "https://localhost:8080/"
        },
        "id": "aV2i7952KVNh",
        "outputId": "367b703b-ad52-4b2d-edf1-e04c1567e869"
      },
      "execution_count": null,
      "outputs": [
        {
          "output_type": "stream",
          "name": "stdout",
          "text": [
            "     PassengerId  Survived  Pclass                                      Name  \\\n",
            "886          887         0       2                     Montvila, Rev. Juozas   \n",
            "887          888         1       1              Graham, Miss. Margaret Edith   \n",
            "888          889         0       3  Johnston, Miss. Catherine Helen \"Carrie\"   \n",
            "889          890         1       1                     Behr, Mr. Karl Howell   \n",
            "890          891         0       3                       Dooley, Mr. Patrick   \n",
            "\n",
            "        Sex   Age  SibSp  Parch      Ticket   Fare Cabin Embarked  \n",
            "886    male  27.0      0      0      211536  13.00   NaN        S  \n",
            "887  female  19.0      0      0      112053  30.00   B42        S  \n",
            "888  female   NaN      1      2  W./C. 6607  23.45   NaN        S  \n",
            "889    male  26.0      0      0      111369  30.00  C148        C  \n",
            "890    male  32.0      0      0      370376   7.75   NaN        Q  \n"
          ]
        }
      ]
    },
    {
      "cell_type": "code",
      "source": [
        "sns.countplot(x='Survived',data=data)"
      ],
      "metadata": {
        "colab": {
          "base_uri": "https://localhost:8080/",
          "height": 466
        },
        "id": "I1oQh_qE2Vlo",
        "outputId": "d6f08797-3e8d-434a-e454-789bb2e417cd"
      },
      "execution_count": null,
      "outputs": [
        {
          "output_type": "execute_result",
          "data": {
            "text/plain": [
              "<Axes: xlabel='Survived', ylabel='count'>"
            ]
          },
          "metadata": {},
          "execution_count": 8
        },
        {
          "output_type": "display_data",
          "data": {
            "text/plain": [
              "<Figure size 640x480 with 1 Axes>"
            ],
            "image/png": "[encoded data removed]"
          },
          "metadata": {}
        }
      ]
    },
    {
      "cell_type": "code",
      "source": [
        "print(data.columns)"
      ],
      "metadata": {
        "colab": {
          "base_uri": "https://localhost:8080/"
        },
        "id": "6b7T0qXqKZ80",
        "outputId": "2a55be0c-1c3e-41da-c7af-98eea95c1e79"
      },
      "execution_count": null,
      "outputs": [
        {
          "output_type": "stream",
          "name": "stdout",
          "text": [
            "Index(['PassengerId', 'Survived', 'Pclass', 'Name', 'Sex', 'Age', 'SibSp',\n",
            "       'Parch', 'Ticket', 'Fare', 'Cabin', 'Embarked'],\n",
            "      dtype='object')\n"
          ]
        }
      ]
    },
    {
      "cell_type": "code",
      "source": [
        "from sklearn.model_selection import train_test_split\n",
        "from sklearn.metrics import accuracy_score"
      ],
      "metadata": {
        "id": "1aM7QY-mNnw2"
      },
      "execution_count": null,
      "outputs": []
    },
    {
      "cell_type": "code",
      "source": [
        "# Preprocessing the data and Dropping irrelevant columns\n",
        "data = data.drop(['PassengerId', 'Name', 'Ticket', 'Cabin', 'Embarked'], axis=1)"
      ],
      "metadata": {
        "id": "urPEOHT1NsLR"
      },
      "execution_count": null,
      "outputs": []
    },
    {
      "cell_type": "code",
      "source": [
        "print(data.info())"
      ],
      "metadata": {
        "colab": {
          "base_uri": "https://localhost:8080/"
        },
        "id": "Kczl9hrfx19u",
        "outputId": "a194790f-c913-4592-ea0e-cce41dbbe74a"
      },
      "execution_count": null,
      "outputs": [
        {
          "output_type": "stream",
          "name": "stdout",
          "text": [
            "<class 'pandas.core.frame.DataFrame'>\n",
            "RangeIndex: 891 entries, 0 to 890\n",
            "Data columns (total 7 columns):\n",
            " #   Column    Non-Null Count  Dtype  \n",
            "---  ------    --------------  -----  \n",
            " 0   Survived  891 non-null    int64  \n",
            " 1   Pclass    891 non-null    int64  \n",
            " 2   Sex       891 non-null    object \n",
            " 3   Age       714 non-null    float64\n",
            " 4   SibSp     891 non-null    int64  \n",
            " 5   Parch     891 non-null    int64  \n",
            " 6   Fare      891 non-null    float64\n",
            "dtypes: float64(2), int64(4), object(1)\n",
            "memory usage: 48.9+ KB\n",
            "None\n"
          ]
        }
      ]
    },
    {
      "cell_type": "code",
      "source": [
        "# Converting categorical variables to numerical\n",
        "data['Sex'] = data['Sex'].map({'female': 0, 'male': 1})"
      ],
      "metadata": {
        "id": "7QK26rspN9DN"
      },
      "execution_count": null,
      "outputs": []
    },
    {
      "cell_type": "code",
      "source": [
        "print(data['Age'])"
      ],
      "metadata": {
        "colab": {
          "base_uri": "https://localhost:8080/"
        },
        "id": "93kAVbhvxGyH",
        "outputId": "2ca64ea9-2808-415a-f526-a8bda03ba589"
      },
      "execution_count": null,
      "outputs": [
        {
          "output_type": "stream",
          "name": "stdout",
          "text": [
            "0      22.0\n",
            "1      38.0\n",
            "2      26.0\n",
            "3      35.0\n",
            "4      35.0\n",
            "       ... \n",
            "886    27.0\n",
            "887    19.0\n",
            "888     NaN\n",
            "889    26.0\n",
            "890    32.0\n",
            "Name: Age, Length: 891, dtype: float64\n"
          ]
        }
      ]
    },
    {
      "cell_type": "code",
      "source": [
        "# Filling missing values with the mean\n",
        "data['Age'] = data['Age'].fillna(data['Age'].mean())"
      ],
      "metadata": {
        "id": "jRrcGimKOAfr"
      },
      "execution_count": null,
      "outputs": []
    },
    {
      "cell_type": "code",
      "source": [
        "print(data['Age'])"
      ],
      "metadata": {
        "colab": {
          "base_uri": "https://localhost:8080/"
        },
        "id": "XR8WMRudxMPo",
        "outputId": "c1253057-8805-49a8-c2fa-5276814450a2"
      },
      "execution_count": null,
      "outputs": [
        {
          "output_type": "stream",
          "name": "stdout",
          "text": [
            "0      22.000000\n",
            "1      38.000000\n",
            "2      26.000000\n",
            "3      35.000000\n",
            "4      35.000000\n",
            "         ...    \n",
            "886    27.000000\n",
            "887    19.000000\n",
            "888    29.699118\n",
            "889    26.000000\n",
            "890    32.000000\n",
            "Name: Age, Length: 891, dtype: float64\n"
          ]
        }
      ]
    },
    {
      "cell_type": "code",
      "source": [
        "# Spliting the data into features and target\n",
        "X = data.drop('Survived', axis=1)\n",
        "y = data['Survived']"
      ],
      "metadata": {
        "id": "Ei7ppWX1OEFy"
      },
      "execution_count": null,
      "outputs": []
    },
    {
      "cell_type": "code",
      "source": [
        "# Spliting the data into training and testing sets\n",
        "X_train, X_test, y_train, y_test = train_test_split(X, y, test_size=0.2, random_state=42)"
      ],
      "metadata": {
        "id": "YUbD0vr6OHbr"
      },
      "execution_count": null,
      "outputs": []
    },
    {
      "cell_type": "markdown",
      "source": [
        "\n",
        "\n",
        "---\n",
        "\n",
        "\n",
        "# K-Nearest Neighbors (KNN)"
      ],
      "metadata": {
        "id": "9N2JYNXP90Ne"
      }
    },
    {
      "cell_type": "markdown",
      "source": [
        "K-Nearest Neighbors (KNN) is a popular classification algorithm used in machine learning.It assumes the similarity between the new case/data and available cases and put the new case into the category that is most similar to the available categories.\n",
        "\n",
        "It is a **non-parametric** and instance-based learning algorithm, which means it does not make any assumptions about the underlying data distribution.\n",
        "\n",
        "\n",
        "It is also called a **lazy learner algorithm** because it **does not learn from the training set** immediately instead it stores the dataset and at the time of classification, it performs an action on the dataset.\n",
        "\n",
        "\n",
        "![image.png](data:image/png;base64,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)"
      ],
      "metadata": {
        "id": "nCgkS2389xI4"
      }
    },
    {
      "cell_type": "code",
      "execution_count": null,
      "metadata": {
        "id": "0DtkEnYyxT16"
      },
      "outputs": [],
      "source": [
        "from sklearn.neighbors import KNeighborsClassifier"
      ]
    },
    {
      "cell_type": "code",
      "source": [
        "# Create a KNN classifier\n",
        "knn = KNeighborsClassifier(n_neighbors=5)"
      ],
      "metadata": {
        "id": "6RsjCwWCPYTs"
      },
      "execution_count": null,
      "outputs": []
    },
    {
      "cell_type": "code",
      "source": [
        "# Training the classifier\n",
        "knn.fit(X_train, y_train)"
      ],
      "metadata": {
        "colab": {
          "base_uri": "https://localhost:8080/",
          "height": 75
        },
        "id": "Oa_8uw74Pdtx",
        "outputId": "4f937277-5a63-4546-bc38-51f4838dcd26"
      },
      "execution_count": null,
      "outputs": [
        {
          "output_type": "execute_result",
          "data": {
            "text/plain": [
              "KNeighborsClassifier()"
            ],
            "text/html": [
              "<style>#sk-container-id-1 {color: black;background-color: white;}#sk-container-id-1 pre{padding: 0;}#sk-container-id-1 div.sk-toggleable {background-color: white;}#sk-container-id-1 label.sk-toggleable__label {cursor: pointer;display: block;width: 100%;margin-bottom: 0;padding: 0.3em;box-sizing: border-box;text-align: center;}#sk-container-id-1 label.sk-toggleable__label-arrow:before {content: \"▸\";float: left;margin-right: 0.25em;color: #696969;}#sk-container-id-1 label.sk-toggleable__label-arrow:hover:before {color: black;}#sk-container-id-1 div.sk-estimator:hover label.sk-toggleable__label-arrow:before {color: black;}#sk-container-id-1 div.sk-toggleable__content {max-height: 0;max-width: 0;overflow: hidden;text-align: left;background-color: #f0f8ff;}#sk-container-id-1 div.sk-toggleable__content pre {margin: 0.2em;color: black;border-radius: 0.25em;background-color: #f0f8ff;}#sk-container-id-1 input.sk-toggleable__control:checked~div.sk-toggleable__content {max-height: 200px;max-width: 100%;overflow: auto;}#sk-container-id-1 input.sk-toggleable__control:checked~label.sk-toggleable__label-arrow:before {content: \"▾\";}#sk-container-id-1 div.sk-estimator input.sk-toggleable__control:checked~label.sk-toggleable__label {background-color: #d4ebff;}#sk-container-id-1 div.sk-label input.sk-toggleable__control:checked~label.sk-toggleable__label {background-color: #d4ebff;}#sk-container-id-1 input.sk-hidden--visually {border: 0;clip: rect(1px 1px 1px 1px);clip: rect(1px, 1px, 1px, 1px);height: 1px;margin: -1px;overflow: hidden;padding: 0;position: absolute;width: 1px;}#sk-container-id-1 div.sk-estimator {font-family: monospace;background-color: #f0f8ff;border: 1px dotted black;border-radius: 0.25em;box-sizing: border-box;margin-bottom: 0.5em;}#sk-container-id-1 div.sk-estimator:hover {background-color: #d4ebff;}#sk-container-id-1 div.sk-parallel-item::after {content: \"\";width: 100%;border-bottom: 1px solid gray;flex-grow: 1;}#sk-container-id-1 div.sk-label:hover label.sk-toggleable__label {background-color: #d4ebff;}#sk-container-id-1 div.sk-serial::before {content: \"\";position: absolute;border-left: 1px solid gray;box-sizing: border-box;top: 0;bottom: 0;left: 50%;z-index: 0;}#sk-container-id-1 div.sk-serial {display: flex;flex-direction: column;align-items: center;background-color: white;padding-right: 0.2em;padding-left: 0.2em;position: relative;}#sk-container-id-1 div.sk-item {position: relative;z-index: 1;}#sk-container-id-1 div.sk-parallel {display: flex;align-items: stretch;justify-content: center;background-color: white;position: relative;}#sk-container-id-1 div.sk-item::before, #sk-container-id-1 div.sk-parallel-item::before {content: \"\";position: absolute;border-left: 1px solid gray;box-sizing: border-box;top: 0;bottom: 0;left: 50%;z-index: -1;}#sk-container-id-1 div.sk-parallel-item {display: flex;flex-direction: column;z-index: 1;position: relative;background-color: white;}#sk-container-id-1 div.sk-parallel-item:first-child::after {align-self: flex-end;width: 50%;}#sk-container-id-1 div.sk-parallel-item:last-child::after {align-self: flex-start;width: 50%;}#sk-container-id-1 div.sk-parallel-item:only-child::after {width: 0;}#sk-container-id-1 div.sk-dashed-wrapped {border: 1px dashed gray;margin: 0 0.4em 0.5em 0.4em;box-sizing: border-box;padding-bottom: 0.4em;background-color: white;}#sk-container-id-1 div.sk-label label {font-family: monospace;font-weight: bold;display: inline-block;line-height: 1.2em;}#sk-container-id-1 div.sk-label-container {text-align: center;}#sk-container-id-1 div.sk-container {/* jupyter's `normalize.less` sets `[hidden] { display: none; }` but bootstrap.min.css set `[hidden] { display: none !important; }` so we also need the `!important` here to be able to override the default hidden behavior on the sphinx rendered scikit-learn.org. See: https://github.com/scikit-learn/scikit-learn/issues/21755 */display: inline-block !important;position: relative;}#sk-container-id-1 div.sk-text-repr-fallback {display: none;}</style><div id=\"sk-container-id-1\" class=\"sk-top-container\"><div class=\"sk-text-repr-fallback\"><pre>KNeighborsClassifier()</pre><b>In a Jupyter environment, please rerun this cell to show the HTML representation or trust the notebook. <br />On GitHub, the HTML representation is unable to render, please try loading this page with nbviewer.org.</b></div><div class=\"sk-container\" hidden><div class=\"sk-item\"><div class=\"sk-estimator sk-toggleable\"><input class=\"sk-toggleable__control sk-hidden--visually\" id=\"sk-estimator-id-1\" type=\"checkbox\" checked><label for=\"sk-estimator-id-1\" class=\"sk-toggleable__label sk-toggleable__label-arrow\">KNeighborsClassifier</label><div class=\"sk-toggleable__content\"><pre>KNeighborsClassifier()</pre></div></div></div></div></div>"
            ]
          },
          "metadata": {},
          "execution_count": 21
        }
      ]
    },
    {
      "cell_type": "code",
      "source": [
        "# Make predictions on the test set\n",
        "y_pred = knn.predict(X_test)"
      ],
      "metadata": {
        "id": "C3Cp9PYlPgBV"
      },
      "execution_count": null,
      "outputs": []
    },
    {
      "cell_type": "code",
      "source": [
        "# Calculate accuracy\n",
        "knn_accuracy = accuracy_score(y_test, y_pred)*100\n",
        "print(\"Accuracy percent:\", knn_accuracy)"
      ],
      "metadata": {
        "colab": {
          "base_uri": "https://localhost:8080/"
        },
        "id": "NZEb8L5NPiRf",
        "outputId": "e9af4831-e5b1-4256-fdc9-105eadee8685"
      },
      "execution_count": null,
      "outputs": [
        {
          "output_type": "stream",
          "name": "stdout",
          "text": [
            "Accuracy percent: 69.27374301675978\n"
          ]
        }
      ]
    },
    {
      "cell_type": "markdown",
      "source": [
        "\n",
        "\n",
        "---\n",
        "\n",
        "\n",
        "# Logistic Regression"
      ],
      "metadata": {
        "id": "phf7XSX7P0Zz"
      }
    },
    {
      "cell_type": "markdown",
      "source": [
        "Logistic regression is one of the most popular Machine Learning algorithms, which comes under the Supervised Learning technique. It is used for **predicting the categorical dependent variable** using a given set of independent variables.\n",
        "\n",
        "Logistic regression predicts the output of a categorical dependent variable. Therefore the outcome must be a categorical or discrete value. It can be either Yes or No, 0 or 1, true or False, etc. but instead of giving the exact value as 0 and 1, it gives the probabilistic values which lie between 0 and 1."
      ],
      "metadata": {
        "id": "EGy8nUEabG9y"
      }
    },
    {
      "cell_type": "markdown",
      "source": [
        "![image.png](data:image/png;base64,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)"
      ],
      "metadata": {
        "id": "MONACUWEcCPP"
      }
    },
    {
      "cell_type": "markdown",
      "source": [
        "The main difference between them is how they are being used. The Linear Regression is used for solving Regression problems whereas Logistic Regression is used for solving the Classification problems."
      ],
      "metadata": {
        "id": "5Ec7BT_HcG6g"
      }
    },
    {
      "cell_type": "code",
      "source": [
        "from sklearn.linear_model import LogisticRegression"
      ],
      "metadata": {
        "id": "WOaxMl1ZP7Cb"
      },
      "execution_count": null,
      "outputs": []
    },
    {
      "cell_type": "code",
      "source": [
        "# Create a Logistic Regression classifier\n",
        "logreg = LogisticRegression()"
      ],
      "metadata": {
        "id": "7WLCq0LqP_BQ"
      },
      "execution_count": null,
      "outputs": []
    },
    {
      "cell_type": "code",
      "source": [
        "logreg.fit(X_train, y_train)"
      ],
      "metadata": {
        "colab": {
          "base_uri": "https://localhost:8080/",
          "height": 75
        },
        "id": "tCteUGGJQC7N",
        "outputId": "b342e5fd-291f-4da3-e020-7cd167a119f5"
      },
      "execution_count": null,
      "outputs": [
        {
          "output_type": "execute_result",
          "data": {
            "text/plain": [
              "LogisticRegression()"
            ],
            "text/html": [
              "<style>#sk-container-id-2 {color: black;background-color: white;}#sk-container-id-2 pre{padding: 0;}#sk-container-id-2 div.sk-toggleable {background-color: white;}#sk-container-id-2 label.sk-toggleable__label {cursor: pointer;display: block;width: 100%;margin-bottom: 0;padding: 0.3em;box-sizing: border-box;text-align: center;}#sk-container-id-2 label.sk-toggleable__label-arrow:before {content: \"▸\";float: left;margin-right: 0.25em;color: #696969;}#sk-container-id-2 label.sk-toggleable__label-arrow:hover:before {color: black;}#sk-container-id-2 div.sk-estimator:hover label.sk-toggleable__label-arrow:before {color: black;}#sk-container-id-2 div.sk-toggleable__content {max-height: 0;max-width: 0;overflow: hidden;text-align: left;background-color: #f0f8ff;}#sk-container-id-2 div.sk-toggleable__content pre {margin: 0.2em;color: black;border-radius: 0.25em;background-color: #f0f8ff;}#sk-container-id-2 input.sk-toggleable__control:checked~div.sk-toggleable__content {max-height: 200px;max-width: 100%;overflow: auto;}#sk-container-id-2 input.sk-toggleable__control:checked~label.sk-toggleable__label-arrow:before {content: \"▾\";}#sk-container-id-2 div.sk-estimator input.sk-toggleable__control:checked~label.sk-toggleable__label {background-color: #d4ebff;}#sk-container-id-2 div.sk-label input.sk-toggleable__control:checked~label.sk-toggleable__label {background-color: #d4ebff;}#sk-container-id-2 input.sk-hidden--visually {border: 0;clip: rect(1px 1px 1px 1px);clip: rect(1px, 1px, 1px, 1px);height: 1px;margin: -1px;overflow: hidden;padding: 0;position: absolute;width: 1px;}#sk-container-id-2 div.sk-estimator {font-family: monospace;background-color: #f0f8ff;border: 1px dotted black;border-radius: 0.25em;box-sizing: border-box;margin-bottom: 0.5em;}#sk-container-id-2 div.sk-estimator:hover {background-color: #d4ebff;}#sk-container-id-2 div.sk-parallel-item::after {content: \"\";width: 100%;border-bottom: 1px solid gray;flex-grow: 1;}#sk-container-id-2 div.sk-label:hover label.sk-toggleable__label {background-color: #d4ebff;}#sk-container-id-2 div.sk-serial::before {content: \"\";position: absolute;border-left: 1px solid gray;box-sizing: border-box;top: 0;bottom: 0;left: 50%;z-index: 0;}#sk-container-id-2 div.sk-serial {display: flex;flex-direction: column;align-items: center;background-color: white;padding-right: 0.2em;padding-left: 0.2em;position: relative;}#sk-container-id-2 div.sk-item {position: relative;z-index: 1;}#sk-container-id-2 div.sk-parallel {display: flex;align-items: stretch;justify-content: center;background-color: white;position: relative;}#sk-container-id-2 div.sk-item::before, #sk-container-id-2 div.sk-parallel-item::before {content: \"\";position: absolute;border-left: 1px solid gray;box-sizing: border-box;top: 0;bottom: 0;left: 50%;z-index: -1;}#sk-container-id-2 div.sk-parallel-item {display: flex;flex-direction: column;z-index: 1;position: relative;background-color: white;}#sk-container-id-2 div.sk-parallel-item:first-child::after {align-self: flex-end;width: 50%;}#sk-container-id-2 div.sk-parallel-item:last-child::after {align-self: flex-start;width: 50%;}#sk-container-id-2 div.sk-parallel-item:only-child::after {width: 0;}#sk-container-id-2 div.sk-dashed-wrapped {border: 1px dashed gray;margin: 0 0.4em 0.5em 0.4em;box-sizing: border-box;padding-bottom: 0.4em;background-color: white;}#sk-container-id-2 div.sk-label label {font-family: monospace;font-weight: bold;display: inline-block;line-height: 1.2em;}#sk-container-id-2 div.sk-label-container {text-align: center;}#sk-container-id-2 div.sk-container {/* jupyter's `normalize.less` sets `[hidden] { display: none; }` but bootstrap.min.css set `[hidden] { display: none !important; }` so we also need the `!important` here to be able to override the default hidden behavior on the sphinx rendered scikit-learn.org. See: https://github.com/scikit-learn/scikit-learn/issues/21755 */display: inline-block !important;position: relative;}#sk-container-id-2 div.sk-text-repr-fallback {display: none;}</style><div id=\"sk-container-id-2\" class=\"sk-top-container\"><div class=\"sk-text-repr-fallback\"><pre>LogisticRegression()</pre><b>In a Jupyter environment, please rerun this cell to show the HTML representation or trust the notebook. <br />On GitHub, the HTML representation is unable to render, please try loading this page with nbviewer.org.</b></div><div class=\"sk-container\" hidden><div class=\"sk-item\"><div class=\"sk-estimator sk-toggleable\"><input class=\"sk-toggleable__control sk-hidden--visually\" id=\"sk-estimator-id-2\" type=\"checkbox\" checked><label for=\"sk-estimator-id-2\" class=\"sk-toggleable__label sk-toggleable__label-arrow\">LogisticRegression</label><div class=\"sk-toggleable__content\"><pre>LogisticRegression()</pre></div></div></div></div></div>"
            ]
          },
          "metadata": {},
          "execution_count": 26
        }
      ]
    },
    {
      "cell_type": "code",
      "source": [
        "y_pred = logreg.predict(X_test)"
      ],
      "metadata": {
        "id": "sVs4uD6mQD5a"
      },
      "execution_count": null,
      "outputs": []
    },
    {
      "cell_type": "code",
      "source": [
        "logreg_accuracy = accuracy_score(y_test, y_pred)*100\n",
        "print(\"Accuracy percent:\", logreg_accuracy)"
      ],
      "metadata": {
        "colab": {
          "base_uri": "https://localhost:8080/"
        },
        "id": "OInDopCDQG72",
        "outputId": "579b15a2-5ab4-4f9c-959f-952d37fb0c99"
      },
      "execution_count": null,
      "outputs": [
        {
          "output_type": "stream",
          "name": "stdout",
          "text": [
            "Accuracy percent: 81.00558659217877\n"
          ]
        }
      ]
    },
    {
      "cell_type": "markdown",
      "source": [
        "\n",
        "\n",
        "---\n",
        "\n",
        "\n",
        "# Support Vector Machines (SVM)"
      ],
      "metadata": {
        "id": "Y43RxHpHQOKe"
      }
    },
    {
      "cell_type": "markdown",
      "source": [
        "Support Vector Machine or SVM is one of the most popular Supervised Learning algorithms, which is used for Classification as well as Regression problems.\n",
        "\n",
        "\n",
        "The basic idea behind SVM is to find an optimal hyperplane that separates the data points of different classes in a high-dimensional space. The hyperplane is chosen such that it maximizes the margin, which is the distance between the hyperplane and the nearest data points from each class. These nearest data points are known as support vectors."
      ],
      "metadata": {
        "id": "Mrd5_ZRapYd8"
      }
    },
    {
      "cell_type": "markdown",
      "source": [
        "![image.png](data:image/png;base64,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)"
      ],
      "metadata": {
        "id": "8pqAgx4Kp4KZ"
      }
    },
    {
      "cell_type": "code",
      "source": [
        "from sklearn.svm import SVC"
      ],
      "metadata": {
        "id": "h-uzQdyQQgFI"
      },
      "execution_count": null,
      "outputs": []
    },
    {
      "cell_type": "code",
      "source": [
        "# Create an SVM classifier\n",
        "svm = SVC(kernel='linear')"
      ],
      "metadata": {
        "id": "5jazsmxCQim2"
      },
      "execution_count": null,
      "outputs": []
    },
    {
      "cell_type": "code",
      "source": [
        "svm.fit(X_train, y_train)"
      ],
      "metadata": {
        "colab": {
          "base_uri": "https://localhost:8080/",
          "height": 75
        },
        "id": "sNbtz8v2QmCh",
        "outputId": "1593add3-e52d-4b58-b35a-15fb026496aa"
      },
      "execution_count": null,
      "outputs": [
        {
          "output_type": "execute_result",
          "data": {
            "text/plain": [
              "SVC(kernel='linear')"
            ],
            "text/html": [
              "<style>#sk-container-id-3 {color: black;background-color: white;}#sk-container-id-3 pre{padding: 0;}#sk-container-id-3 div.sk-toggleable {background-color: white;}#sk-container-id-3 label.sk-toggleable__label {cursor: pointer;display: block;width: 100%;margin-bottom: 0;padding: 0.3em;box-sizing: border-box;text-align: center;}#sk-container-id-3 label.sk-toggleable__label-arrow:before {content: \"▸\";float: left;margin-right: 0.25em;color: #696969;}#sk-container-id-3 label.sk-toggleable__label-arrow:hover:before {color: black;}#sk-container-id-3 div.sk-estimator:hover label.sk-toggleable__label-arrow:before {color: black;}#sk-container-id-3 div.sk-toggleable__content {max-height: 0;max-width: 0;overflow: hidden;text-align: left;background-color: #f0f8ff;}#sk-container-id-3 div.sk-toggleable__content pre {margin: 0.2em;color: black;border-radius: 0.25em;background-color: #f0f8ff;}#sk-container-id-3 input.sk-toggleable__control:checked~div.sk-toggleable__content {max-height: 200px;max-width: 100%;overflow: auto;}#sk-container-id-3 input.sk-toggleable__control:checked~label.sk-toggleable__label-arrow:before {content: \"▾\";}#sk-container-id-3 div.sk-estimator input.sk-toggleable__control:checked~label.sk-toggleable__label {background-color: #d4ebff;}#sk-container-id-3 div.sk-label input.sk-toggleable__control:checked~label.sk-toggleable__label {background-color: #d4ebff;}#sk-container-id-3 input.sk-hidden--visually {border: 0;clip: rect(1px 1px 1px 1px);clip: rect(1px, 1px, 1px, 1px);height: 1px;margin: -1px;overflow: hidden;padding: 0;position: absolute;width: 1px;}#sk-container-id-3 div.sk-estimator {font-family: monospace;background-color: #f0f8ff;border: 1px dotted black;border-radius: 0.25em;box-sizing: border-box;margin-bottom: 0.5em;}#sk-container-id-3 div.sk-estimator:hover {background-color: #d4ebff;}#sk-container-id-3 div.sk-parallel-item::after {content: \"\";width: 100%;border-bottom: 1px solid gray;flex-grow: 1;}#sk-container-id-3 div.sk-label:hover label.sk-toggleable__label {background-color: #d4ebff;}#sk-container-id-3 div.sk-serial::before {content: \"\";position: absolute;border-left: 1px solid gray;box-sizing: border-box;top: 0;bottom: 0;left: 50%;z-index: 0;}#sk-container-id-3 div.sk-serial {display: flex;flex-direction: column;align-items: center;background-color: white;padding-right: 0.2em;padding-left: 0.2em;position: relative;}#sk-container-id-3 div.sk-item {position: relative;z-index: 1;}#sk-container-id-3 div.sk-parallel {display: flex;align-items: stretch;justify-content: center;background-color: white;position: relative;}#sk-container-id-3 div.sk-item::before, #sk-container-id-3 div.sk-parallel-item::before {content: \"\";position: absolute;border-left: 1px solid gray;box-sizing: border-box;top: 0;bottom: 0;left: 50%;z-index: -1;}#sk-container-id-3 div.sk-parallel-item {display: flex;flex-direction: column;z-index: 1;position: relative;background-color: white;}#sk-container-id-3 div.sk-parallel-item:first-child::after {align-self: flex-end;width: 50%;}#sk-container-id-3 div.sk-parallel-item:last-child::after {align-self: flex-start;width: 50%;}#sk-container-id-3 div.sk-parallel-item:only-child::after {width: 0;}#sk-container-id-3 div.sk-dashed-wrapped {border: 1px dashed gray;margin: 0 0.4em 0.5em 0.4em;box-sizing: border-box;padding-bottom: 0.4em;background-color: white;}#sk-container-id-3 div.sk-label label {font-family: monospace;font-weight: bold;display: inline-block;line-height: 1.2em;}#sk-container-id-3 div.sk-label-container {text-align: center;}#sk-container-id-3 div.sk-container {/* jupyter's `normalize.less` sets `[hidden] { display: none; }` but bootstrap.min.css set `[hidden] { display: none !important; }` so we also need the `!important` here to be able to override the default hidden behavior on the sphinx rendered scikit-learn.org. See: https://github.com/scikit-learn/scikit-learn/issues/21755 */display: inline-block !important;position: relative;}#sk-container-id-3 div.sk-text-repr-fallback {display: none;}</style><div id=\"sk-container-id-3\" class=\"sk-top-container\"><div class=\"sk-text-repr-fallback\"><pre>SVC(kernel=&#x27;linear&#x27;)</pre><b>In a Jupyter environment, please rerun this cell to show the HTML representation or trust the notebook. <br />On GitHub, the HTML representation is unable to render, please try loading this page with nbviewer.org.</b></div><div class=\"sk-container\" hidden><div class=\"sk-item\"><div class=\"sk-estimator sk-toggleable\"><input class=\"sk-toggleable__control sk-hidden--visually\" id=\"sk-estimator-id-3\" type=\"checkbox\" checked><label for=\"sk-estimator-id-3\" class=\"sk-toggleable__label sk-toggleable__label-arrow\">SVC</label><div class=\"sk-toggleable__content\"><pre>SVC(kernel=&#x27;linear&#x27;)</pre></div></div></div></div></div>"
            ]
          },
          "metadata": {},
          "execution_count": 31
        }
      ]
    },
    {
      "cell_type": "code",
      "source": [
        "y_pred = svm.predict(X_test)"
      ],
      "metadata": {
        "id": "r9l1BoXXQqjs"
      },
      "execution_count": null,
      "outputs": []
    },
    {
      "cell_type": "code",
      "source": [
        "svm_accuracy = accuracy_score(y_test, y_pred)*100\n",
        "print(\"Accuracy percent:\", svm_accuracy)"
      ],
      "metadata": {
        "colab": {
          "base_uri": "https://localhost:8080/"
        },
        "id": "Jp7hN8T8QtbJ",
        "outputId": "daddde76-f6d7-4693-f0f6-d26eb62923fa"
      },
      "execution_count": null,
      "outputs": [
        {
          "output_type": "stream",
          "name": "stdout",
          "text": [
            "Accuracy percent: 78.2122905027933\n"
          ]
        }
      ]
    },
    {
      "cell_type": "markdown",
      "source": [
        "\n",
        "\n",
        "---\n",
        "\n",
        "\n",
        "# Naive Bayes"
      ],
      "metadata": {
        "id": "PuXYtaeERZku"
      }
    },
    {
      "cell_type": "markdown",
      "source": [
        "Naive Bayes is a probabilistic machine learning algorithm commonly used for classification tasks. It is based on Bayes' theorem and assumes that the features are conditionally independent given the class variable.\n",
        "\n",
        "P(A|B)=P(B|A)P(A)/P(B)"
      ],
      "metadata": {
        "id": "u4AzXLIUqJif"
      }
    },
    {
      "cell_type": "code",
      "source": [
        "from sklearn.naive_bayes import GaussianNB"
      ],
      "metadata": {
        "id": "Xk3lBLF6RdE0"
      },
      "execution_count": null,
      "outputs": []
    },
    {
      "cell_type": "code",
      "source": [
        "# Create a Naive Bayes classifier\n",
        "nb = GaussianNB()"
      ],
      "metadata": {
        "id": "yQ9IhiAaReGH"
      },
      "execution_count": null,
      "outputs": []
    },
    {
      "cell_type": "code",
      "source": [
        "nb.fit(X_train, y_train)"
      ],
      "metadata": {
        "colab": {
          "base_uri": "https://localhost:8080/",
          "height": 75
        },
        "id": "gsgQwUjkRhZI",
        "outputId": "0b332ad8-5590-4e3a-dc4c-799a61089a7e"
      },
      "execution_count": null,
      "outputs": [
        {
          "output_type": "execute_result",
          "data": {
            "text/plain": [
              "GaussianNB()"
            ],
            "text/html": [
              "<style>#sk-container-id-4 {color: black;background-color: white;}#sk-container-id-4 pre{padding: 0;}#sk-container-id-4 div.sk-toggleable {background-color: white;}#sk-container-id-4 label.sk-toggleable__label {cursor: pointer;display: block;width: 100%;margin-bottom: 0;padding: 0.3em;box-sizing: border-box;text-align: center;}#sk-container-id-4 label.sk-toggleable__label-arrow:before {content: \"▸\";float: left;margin-right: 0.25em;color: #696969;}#sk-container-id-4 label.sk-toggleable__label-arrow:hover:before {color: black;}#sk-container-id-4 div.sk-estimator:hover label.sk-toggleable__label-arrow:before {color: black;}#sk-container-id-4 div.sk-toggleable__content {max-height: 0;max-width: 0;overflow: hidden;text-align: left;background-color: #f0f8ff;}#sk-container-id-4 div.sk-toggleable__content pre {margin: 0.2em;color: black;border-radius: 0.25em;background-color: #f0f8ff;}#sk-container-id-4 input.sk-toggleable__control:checked~div.sk-toggleable__content {max-height: 200px;max-width: 100%;overflow: auto;}#sk-container-id-4 input.sk-toggleable__control:checked~label.sk-toggleable__label-arrow:before {content: \"▾\";}#sk-container-id-4 div.sk-estimator input.sk-toggleable__control:checked~label.sk-toggleable__label {background-color: #d4ebff;}#sk-container-id-4 div.sk-label input.sk-toggleable__control:checked~label.sk-toggleable__label {background-color: #d4ebff;}#sk-container-id-4 input.sk-hidden--visually {border: 0;clip: rect(1px 1px 1px 1px);clip: rect(1px, 1px, 1px, 1px);height: 1px;margin: -1px;overflow: hidden;padding: 0;position: absolute;width: 1px;}#sk-container-id-4 div.sk-estimator {font-family: monospace;background-color: #f0f8ff;border: 1px dotted black;border-radius: 0.25em;box-sizing: border-box;margin-bottom: 0.5em;}#sk-container-id-4 div.sk-estimator:hover {background-color: #d4ebff;}#sk-container-id-4 div.sk-parallel-item::after {content: \"\";width: 100%;border-bottom: 1px solid gray;flex-grow: 1;}#sk-container-id-4 div.sk-label:hover label.sk-toggleable__label {background-color: #d4ebff;}#sk-container-id-4 div.sk-serial::before {content: \"\";position: absolute;border-left: 1px solid gray;box-sizing: border-box;top: 0;bottom: 0;left: 50%;z-index: 0;}#sk-container-id-4 div.sk-serial {display: flex;flex-direction: column;align-items: center;background-color: white;padding-right: 0.2em;padding-left: 0.2em;position: relative;}#sk-container-id-4 div.sk-item {position: relative;z-index: 1;}#sk-container-id-4 div.sk-parallel {display: flex;align-items: stretch;justify-content: center;background-color: white;position: relative;}#sk-container-id-4 div.sk-item::before, #sk-container-id-4 div.sk-parallel-item::before {content: \"\";position: absolute;border-left: 1px solid gray;box-sizing: border-box;top: 0;bottom: 0;left: 50%;z-index: -1;}#sk-container-id-4 div.sk-parallel-item {display: flex;flex-direction: column;z-index: 1;position: relative;background-color: white;}#sk-container-id-4 div.sk-parallel-item:first-child::after {align-self: flex-end;width: 50%;}#sk-container-id-4 div.sk-parallel-item:last-child::after {align-self: flex-start;width: 50%;}#sk-container-id-4 div.sk-parallel-item:only-child::after {width: 0;}#sk-container-id-4 div.sk-dashed-wrapped {border: 1px dashed gray;margin: 0 0.4em 0.5em 0.4em;box-sizing: border-box;padding-bottom: 0.4em;background-color: white;}#sk-container-id-4 div.sk-label label {font-family: monospace;font-weight: bold;display: inline-block;line-height: 1.2em;}#sk-container-id-4 div.sk-label-container {text-align: center;}#sk-container-id-4 div.sk-container {/* jupyter's `normalize.less` sets `[hidden] { display: none; }` but bootstrap.min.css set `[hidden] { display: none !important; }` so we also need the `!important` here to be able to override the default hidden behavior on the sphinx rendered scikit-learn.org. See: https://github.com/scikit-learn/scikit-learn/issues/21755 */display: inline-block !important;position: relative;}#sk-container-id-4 div.sk-text-repr-fallback {display: none;}</style><div id=\"sk-container-id-4\" class=\"sk-top-container\"><div class=\"sk-text-repr-fallback\"><pre>GaussianNB()</pre><b>In a Jupyter environment, please rerun this cell to show the HTML representation or trust the notebook. <br />On GitHub, the HTML representation is unable to render, please try loading this page with nbviewer.org.</b></div><div class=\"sk-container\" hidden><div class=\"sk-item\"><div class=\"sk-estimator sk-toggleable\"><input class=\"sk-toggleable__control sk-hidden--visually\" id=\"sk-estimator-id-4\" type=\"checkbox\" checked><label for=\"sk-estimator-id-4\" class=\"sk-toggleable__label sk-toggleable__label-arrow\">GaussianNB</label><div class=\"sk-toggleable__content\"><pre>GaussianNB()</pre></div></div></div></div></div>"
            ]
          },
          "metadata": {},
          "execution_count": 36
        }
      ]
    },
    {
      "cell_type": "code",
      "source": [
        "y_pred = nb.predict(X_test)"
      ],
      "metadata": {
        "id": "LfdhPB-mRjYA"
      },
      "execution_count": null,
      "outputs": []
    },
    {
      "cell_type": "code",
      "source": [
        "nb_accuracy = accuracy_score(y_test, y_pred)*100\n",
        "print(\"Accuracy percent:\", nb_accuracy)"
      ],
      "metadata": {
        "colab": {
          "base_uri": "https://localhost:8080/"
        },
        "id": "JRVB9QU8Rl1J",
        "outputId": "03513d27-d4b1-4528-bf6e-25cf2de51460"
      },
      "execution_count": null,
      "outputs": [
        {
          "output_type": "stream",
          "name": "stdout",
          "text": [
            "Accuracy percent: 77.09497206703911\n"
          ]
        }
      ]
    },
    {
      "cell_type": "markdown",
      "source": [
        "\n",
        "\n",
        "---\n",
        "\n",
        "\n",
        "# Compare accuracies"
      ],
      "metadata": {
        "id": "dZ5qqQZbRxXo"
      }
    },
    {
      "cell_type": "code",
      "source": [
        "print(\"K-Nearest Neighbors Accuracy:\", knn_accuracy)\n",
        "print(\"Logistic Regression Accuracy:\", logreg_accuracy)\n",
        "print(\"Support Vector Machine Accuracy:\", svm_accuracy)\n",
        "print(\"Naive Bayes Accuracy:\", nb_accuracy)"
      ],
      "metadata": {
        "colab": {
          "base_uri": "https://localhost:8080/"
        },
        "id": "7Ad4tM_2R1T3",
        "outputId": "5dd6e885-b141-4d78-f337-5220512df36b"
      },
      "execution_count": null,
      "outputs": [
        {
          "output_type": "stream",
          "name": "stdout",
          "text": [
            "K-Nearest Neighbors Accuracy: 69.27374301675978\n",
            "Logistic Regression Accuracy: 81.00558659217877\n",
            "Support Vector Machine Accuracy: 78.2122905027933\n",
            "Naive Bayes Accuracy: 77.09497206703911\n"
          ]
        }
      ]
    },
    {
      "cell_type": "code",
      "source": [
        "# Create a bar graph\n",
        "algorithms = ['KNN', 'Logistic Regression','SVM', 'Naive Bayes']\n",
        "accuracies = [knn_accuracy, logreg_accuracy,svm_accuracy, nb_accuracy]"
      ],
      "metadata": {
        "id": "C4yQEoF6SaOX"
      },
      "execution_count": null,
      "outputs": []
    },
    {
      "cell_type": "code",
      "source": [
        "plt.bar(algorithms, accuracies,color = 'brown')\n",
        "plt.xlabel('Algorithms')\n",
        "plt.ylabel('Accuracy(%)')\n",
        "plt.title('Accuracy Comparison of Classification Algorithms')\n",
        "\n",
        "# Add numeric values on top of each bar\n",
        "for i, v in enumerate(accuracies):\n",
        "    plt.text(i, v, str(round(v, 2)), ha='center', va='bottom')\n",
        "\n",
        "plt.show()"
      ],
      "metadata": {
        "colab": {
          "base_uri": "https://localhost:8080/",
          "height": 472
        },
        "id": "wwRjvKVZS_ZE",
        "outputId": "1b4ce95f-4058-4fdf-f623-4af2ac8ac5ed"
      },
      "execution_count": null,
      "outputs": [
        {
          "output_type": "display_data",
          "data": {
            "text/plain": [
              "<Figure size 640x480 with 1 Axes>"
            ],
            "image/png": "[encoded data removed]"
          },
          "metadata": {}
        }
      ]
    },
    {
      "cell_type": "markdown",
      "source": [
        "END\n",
        "\n",
        "\n",
        "---\n",
        "\n"
      ],
      "metadata": {
        "id": "Z7UeF7VA1ck_"
      }
    }
  ]
}